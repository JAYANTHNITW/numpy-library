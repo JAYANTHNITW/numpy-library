{
 "cells": [
  {
   "cell_type": "code",
   "execution_count": 2,
   "id": "1083e9ff",
   "metadata": {},
   "outputs": [
    {
     "data": {
      "text/plain": [
       "array([1, 2])"
      ]
     },
     "execution_count": 2,
     "metadata": {},
     "output_type": "execute_result"
    }
   ],
   "source": [
    "#pip install numpy\n",
    "import numpy as np\n",
    "a=np.array([1,2])\n",
    "a"
   ]
  },
  {
   "cell_type": "code",
   "execution_count": 3,
   "id": "c6455ce4",
   "metadata": {},
   "outputs": [
    {
     "data": {
      "text/plain": [
       "array([[1, 2, 3, 5],\n",
       "       [5, 7, 8, 9]])"
      ]
     },
     "execution_count": 3,
     "metadata": {},
     "output_type": "execute_result"
    }
   ],
   "source": [
    "b=np.array([[1,2,3,5],[5,7,8,9]])\n",
    "b"
   ]
  },
  {
   "cell_type": "code",
   "execution_count": 4,
   "id": "d4b06a9e",
   "metadata": {},
   "outputs": [
    {
     "data": {
      "text/plain": [
       "2"
      ]
     },
     "execution_count": 4,
     "metadata": {},
     "output_type": "execute_result"
    }
   ],
   "source": [
    "b.ndim # To find dimensions"
   ]
  },
  {
   "cell_type": "code",
   "execution_count": 5,
   "id": "aa793aaf",
   "metadata": {
    "scrolled": true
   },
   "outputs": [
    {
     "data": {
      "text/plain": [
       "(2, 4)"
      ]
     },
     "execution_count": 5,
     "metadata": {},
     "output_type": "execute_result"
    }
   ],
   "source": [
    "b.shape #(rows,col)"
   ]
  },
  {
   "cell_type": "code",
   "execution_count": 6,
   "id": "4e70ab4d",
   "metadata": {},
   "outputs": [
    {
     "data": {
      "text/plain": [
       "dtype('int32')"
      ]
     },
     "execution_count": 6,
     "metadata": {},
     "output_type": "execute_result"
    }
   ],
   "source": [
    "b.dtype # To find the data type"
   ]
  },
  {
   "cell_type": "code",
   "execution_count": 7,
   "id": "4a655102",
   "metadata": {},
   "outputs": [
    {
     "data": {
      "text/plain": [
       "dtype('int32')"
      ]
     },
     "execution_count": 7,
     "metadata": {},
     "output_type": "execute_result"
    }
   ],
   "source": [
    "a.dtype"
   ]
  },
  {
   "cell_type": "code",
   "execution_count": 8,
   "id": "426f7fad",
   "metadata": {},
   "outputs": [
    {
     "data": {
      "text/plain": [
       "4"
      ]
     },
     "execution_count": 8,
     "metadata": {},
     "output_type": "execute_result"
    }
   ],
   "source": [
    "b.itemsize # It gives one item occupied space in memory.As data type is int it occupies 4bytes"
   ]
  },
  {
   "cell_type": "code",
   "execution_count": 9,
   "id": "e8d6b810",
   "metadata": {},
   "outputs": [
    {
     "data": {
      "text/plain": [
       "8"
      ]
     },
     "execution_count": 9,
     "metadata": {},
     "output_type": "execute_result"
    }
   ],
   "source": [
    "a.nbytes"
   ]
  },
  {
   "cell_type": "code",
   "execution_count": 10,
   "id": "782af932",
   "metadata": {},
   "outputs": [
    {
     "data": {
      "text/plain": [
       "32"
      ]
     },
     "execution_count": 10,
     "metadata": {},
     "output_type": "execute_result"
    }
   ],
   "source": [
    "b.nbytes\n"
   ]
  },
  {
   "cell_type": "code",
   "execution_count": 11,
   "id": "d2788368",
   "metadata": {},
   "outputs": [
    {
     "data": {
      "text/plain": [
       "1"
      ]
     },
     "execution_count": 11,
     "metadata": {},
     "output_type": "execute_result"
    }
   ],
   "source": [
    "a[0]"
   ]
  },
  {
   "cell_type": "code",
   "execution_count": 12,
   "id": "c6673ef4",
   "metadata": {},
   "outputs": [
    {
     "data": {
      "text/plain": [
       "2"
      ]
     },
     "execution_count": 12,
     "metadata": {},
     "output_type": "execute_result"
    }
   ],
   "source": [
    "a[1]"
   ]
  },
  {
   "cell_type": "code",
   "execution_count": 13,
   "id": "7d3eddef",
   "metadata": {},
   "outputs": [
    {
     "data": {
      "text/plain": [
       "2"
      ]
     },
     "execution_count": 13,
     "metadata": {},
     "output_type": "execute_result"
    }
   ],
   "source": [
    "b[0,1]"
   ]
  },
  {
   "cell_type": "code",
   "execution_count": 14,
   "id": "64f3755e",
   "metadata": {},
   "outputs": [
    {
     "data": {
      "text/plain": [
       "7"
      ]
     },
     "execution_count": 14,
     "metadata": {},
     "output_type": "execute_result"
    }
   ],
   "source": [
    "b[1,1]"
   ]
  },
  {
   "cell_type": "code",
   "execution_count": 15,
   "id": "d4608c20",
   "metadata": {},
   "outputs": [
    {
     "data": {
      "text/plain": [
       "5"
      ]
     },
     "execution_count": 15,
     "metadata": {},
     "output_type": "execute_result"
    }
   ],
   "source": [
    "b[1,0] # [rows,columns]"
   ]
  },
  {
   "cell_type": "code",
   "execution_count": 16,
   "id": "bf5e1b5d",
   "metadata": {},
   "outputs": [
    {
     "data": {
      "text/plain": [
       "1"
      ]
     },
     "execution_count": 16,
     "metadata": {},
     "output_type": "execute_result"
    }
   ],
   "source": [
    "b[0,0]"
   ]
  },
  {
   "cell_type": "code",
   "execution_count": 17,
   "id": "9a36900f",
   "metadata": {},
   "outputs": [
    {
     "data": {
      "text/plain": [
       "3"
      ]
     },
     "execution_count": 17,
     "metadata": {},
     "output_type": "execute_result"
    }
   ],
   "source": [
    "b[0,2]"
   ]
  },
  {
   "cell_type": "code",
   "execution_count": 18,
   "id": "dbee248c",
   "metadata": {},
   "outputs": [
    {
     "data": {
      "text/plain": [
       "array([1, 2, 3, 5])"
      ]
     },
     "execution_count": 18,
     "metadata": {},
     "output_type": "execute_result"
    }
   ],
   "source": [
    "b[0,:] # Used to print first row elements"
   ]
  },
  {
   "cell_type": "code",
   "execution_count": 19,
   "id": "7daf0f43",
   "metadata": {},
   "outputs": [
    {
     "data": {
      "text/plain": [
       "array([[1, 2, 3, 4, 5, 6, 7, 8, 9],\n",
       "       [9, 8, 7, 6, 5, 4, 3, 2, 1]])"
      ]
     },
     "execution_count": 19,
     "metadata": {},
     "output_type": "execute_result"
    }
   ],
   "source": [
    "c=np.array([[1,2,3,4,5,6,7,8,9],[9,8,7,6,5,4,3,2,1]])\n",
    "c"
   ]
  },
  {
   "cell_type": "code",
   "execution_count": 20,
   "id": "2a848e28",
   "metadata": {},
   "outputs": [
    {
     "data": {
      "text/plain": [
       "array([1, 2])"
      ]
     },
     "execution_count": 20,
     "metadata": {},
     "output_type": "execute_result"
    }
   ],
   "source": [
    "c[0,:2]"
   ]
  },
  {
   "cell_type": "code",
   "execution_count": 21,
   "id": "2f9bc5b3",
   "metadata": {},
   "outputs": [
    {
     "data": {
      "text/plain": [
       "array([1, 2, 3, 4, 5, 6, 7, 8, 9])"
      ]
     },
     "execution_count": 21,
     "metadata": {},
     "output_type": "execute_result"
    }
   ],
   "source": [
    "c[0,:]"
   ]
  },
  {
   "cell_type": "code",
   "execution_count": 22,
   "id": "0be3a90b",
   "metadata": {},
   "outputs": [
    {
     "data": {
      "text/plain": [
       "array([3, 7])"
      ]
     },
     "execution_count": 22,
     "metadata": {},
     "output_type": "execute_result"
    }
   ],
   "source": [
    "c[:,2]"
   ]
  },
  {
   "cell_type": "code",
   "execution_count": 23,
   "id": "4dc6ffa2",
   "metadata": {},
   "outputs": [
    {
     "data": {
      "text/plain": [
       "array([8, 2])"
      ]
     },
     "execution_count": 23,
     "metadata": {},
     "output_type": "execute_result"
    }
   ],
   "source": [
    "c[:,7]# specific total col"
   ]
  },
  {
   "cell_type": "code",
   "execution_count": 24,
   "id": "38b71240",
   "metadata": {},
   "outputs": [
    {
     "data": {
      "text/plain": [
       "array([[[1, 2, 0],\n",
       "        [3, 4, 7],\n",
       "        [5, 6, 2],\n",
       "        [7, 8, 3]]])"
      ]
     },
     "execution_count": 24,
     "metadata": {},
     "output_type": "execute_result"
    }
   ],
   "source": [
    "d=np.array([[[1,2,0],[3,4,7],[5,6,2],[7,8,3]]])\n",
    "d"
   ]
  },
  {
   "cell_type": "code",
   "execution_count": 25,
   "id": "6f3dc9d0",
   "metadata": {},
   "outputs": [
    {
     "data": {
      "text/plain": [
       "array([[1, 2, 0],\n",
       "       [3, 4, 7],\n",
       "       [5, 6, 2],\n",
       "       [7, 8, 3]])"
      ]
     },
     "execution_count": 25,
     "metadata": {},
     "output_type": "execute_result"
    }
   ],
   "source": [
    "d[0,:]"
   ]
  },
  {
   "cell_type": "code",
   "execution_count": 26,
   "id": "a74ffb01",
   "metadata": {},
   "outputs": [
    {
     "data": {
      "text/plain": [
       "array([[1, 2, 0]])"
      ]
     },
     "execution_count": 26,
     "metadata": {},
     "output_type": "execute_result"
    }
   ],
   "source": [
    "d[:,0]"
   ]
  },
  {
   "cell_type": "code",
   "execution_count": 27,
   "id": "8c51a401",
   "metadata": {},
   "outputs": [
    {
     "data": {
      "text/plain": [
       "3"
      ]
     },
     "execution_count": 27,
     "metadata": {},
     "output_type": "execute_result"
    }
   ],
   "source": [
    "d.ndim"
   ]
  },
  {
   "cell_type": "code",
   "execution_count": 28,
   "id": "cdd2056d",
   "metadata": {},
   "outputs": [
    {
     "data": {
      "text/plain": [
       "array([[0, 0, 0],\n",
       "       [0, 0, 0]])"
      ]
     },
     "execution_count": 28,
     "metadata": {},
     "output_type": "execute_result"
    }
   ],
   "source": [
    "s=np.zeros((2,3) , dtype=int)\n",
    "s"
   ]
  },
  {
   "cell_type": "code",
   "execution_count": 29,
   "id": "75ac407a",
   "metadata": {},
   "outputs": [
    {
     "data": {
      "text/plain": [
       "array([[[0, 0],\n",
       "        [0, 0],\n",
       "        [0, 0]],\n",
       "\n",
       "       [[0, 0],\n",
       "        [0, 0],\n",
       "        [0, 0]]])"
      ]
     },
     "execution_count": 29,
     "metadata": {},
     "output_type": "execute_result"
    }
   ],
   "source": [
    "s=np.zeros((2,3,2),dtype= int)\n",
    "s"
   ]
  },
  {
   "cell_type": "code",
   "execution_count": 30,
   "id": "a5d8aa7a",
   "metadata": {},
   "outputs": [
    {
     "data": {
      "text/plain": [
       "array([[[ True,  True],\n",
       "        [ True,  True],\n",
       "        [ True,  True]],\n",
       "\n",
       "       [[ True,  True],\n",
       "        [ True,  True],\n",
       "        [ True,  True]]])"
      ]
     },
     "execution_count": 30,
     "metadata": {},
     "output_type": "execute_result"
    }
   ],
   "source": [
    "s=np.ones((2,3,2),dtype= bool)\n",
    "s"
   ]
  },
  {
   "cell_type": "markdown",
   "id": "31951c63",
   "metadata": {},
   "source": [
    "# FUNCTIONS\n",
    "#1.arange(start,end(exclusive), step(not complusory to give))\n"
   ]
  },
  {
   "cell_type": "code",
   "execution_count": 31,
   "id": "b1cf979b",
   "metadata": {},
   "outputs": [
    {
     "data": {
      "text/plain": [
       "array([ 1,  2,  3,  4,  5,  6,  7,  8,  9, 10, 11, 12, 13, 14, 15, 16, 17,\n",
       "       18, 19])"
      ]
     },
     "execution_count": 31,
     "metadata": {},
     "output_type": "execute_result"
    }
   ],
   "source": [
    "a=np.arange(1,20)\n",
    "a\n"
   ]
  },
  {
   "cell_type": "code",
   "execution_count": 32,
   "id": "c61e13ee",
   "metadata": {},
   "outputs": [
    {
     "data": {
      "text/plain": [
       "array([ 2,  4,  6,  8, 10, 12, 14, 16, 18])"
      ]
     },
     "execution_count": 32,
     "metadata": {},
     "output_type": "execute_result"
    }
   ],
   "source": [
    "a=np.arange(2,20,2)\n",
    "a"
   ]
  },
  {
   "cell_type": "code",
   "execution_count": 33,
   "id": "4a4b2bd1",
   "metadata": {},
   "outputs": [
    {
     "data": {
      "text/plain": [
       "array([[ 2,  4,  6],\n",
       "       [ 8, 10, 12],\n",
       "       [14, 16, 18]])"
      ]
     },
     "execution_count": 33,
     "metadata": {},
     "output_type": "execute_result"
    }
   ],
   "source": [
    "#2.reshape((rows,cols))\n",
    "a=a.reshape((3,3))\n",
    "a"
   ]
  },
  {
   "cell_type": "code",
   "execution_count": 34,
   "id": "0b07e7c4",
   "metadata": {},
   "outputs": [
    {
     "data": {
      "text/plain": [
       "array([ 1,  2,  3,  4,  5,  6,  7,  8,  9, 10, 11, 12, 13, 14, 15, 16, 17,\n",
       "       18, 19, 20, 21, 22, 23, 24, 25, 26, 27, 28, 29, 30, 31, 32, 33, 34,\n",
       "       35, 36, 37, 38, 39, 40, 41, 42, 43, 44, 45, 46, 47, 48, 49, 50, 51,\n",
       "       52, 53, 54, 55, 56, 57, 58, 59, 60, 61, 62, 63, 64, 65, 66, 67, 68,\n",
       "       69, 70, 71, 72, 73, 74, 75, 76, 77, 78, 79, 80, 81, 82, 83, 84, 85,\n",
       "       86, 87, 88, 89, 90, 91, 92, 93, 94, 95, 96, 97, 98, 99])"
      ]
     },
     "execution_count": 34,
     "metadata": {},
     "output_type": "execute_result"
    }
   ],
   "source": [
    "b=np.arange(1,100,1)\n",
    "b"
   ]
  },
  {
   "cell_type": "code",
   "execution_count": 35,
   "id": "56bb7237",
   "metadata": {},
   "outputs": [
    {
     "ename": "ValueError",
     "evalue": "cannot reshape array of size 99 into shape (5,10)",
     "output_type": "error",
     "traceback": [
      "\u001b[1;31m---------------------------------------------------------------------------\u001b[0m",
      "\u001b[1;31mValueError\u001b[0m                                Traceback (most recent call last)",
      "\u001b[1;32m~\\AppData\\Local\\Temp\\ipykernel_9112\\1544214778.py\u001b[0m in \u001b[0;36m<module>\u001b[1;34m\u001b[0m\n\u001b[1;32m----> 1\u001b[1;33m \u001b[0mb\u001b[0m\u001b[1;33m=\u001b[0m\u001b[0mb\u001b[0m\u001b[1;33m.\u001b[0m\u001b[0mreshape\u001b[0m\u001b[1;33m(\u001b[0m\u001b[1;33m(\u001b[0m\u001b[1;36m5\u001b[0m\u001b[1;33m,\u001b[0m\u001b[1;36m10\u001b[0m\u001b[1;33m)\u001b[0m\u001b[1;33m)\u001b[0m\u001b[1;33m\u001b[0m\u001b[1;33m\u001b[0m\u001b[0m\n\u001b[0m\u001b[0;32m      2\u001b[0m \u001b[0mb\u001b[0m\u001b[1;33m\u001b[0m\u001b[1;33m\u001b[0m\u001b[0m\n",
      "\u001b[1;31mValueError\u001b[0m: cannot reshape array of size 99 into shape (5,10)"
     ]
    }
   ],
   "source": [
    "b=b.reshape((5,10))\n",
    "b"
   ]
  },
  {
   "cell_type": "code",
   "execution_count": null,
   "id": "69ddd0e5",
   "metadata": {},
   "outputs": [],
   "source": [
    "#3.flatten()# reverse process of reshaping.\n",
    "#. convets to 1 row having multiple coloumns.\n",
    "b=b.flatten()\n",
    "b\n"
   ]
  },
  {
   "cell_type": "markdown",
   "id": "c1bbf967",
   "metadata": {},
   "source": [
    " # find the difference between ravel() and flatten()?\n"
   ]
  },
  {
   "cell_type": "code",
   "execution_count": null,
   "id": "6ffb951c",
   "metadata": {},
   "outputs": [],
   "source": [
    "b=b.ravel() \n",
    "b"
   ]
  },
  {
   "cell_type": "markdown",
   "id": "d877e7d2",
   "metadata": {},
   "source": [
    "# indexing and slicing."
   ]
  },
  {
   "cell_type": "code",
   "execution_count": null,
   "id": "e9a302fc",
   "metadata": {},
   "outputs": [],
   "source": [
    "a=np.arange(1,51)\n",
    "a=a.reshape(10,5)\n",
    "a"
   ]
  },
  {
   "cell_type": "code",
   "execution_count": null,
   "id": "9de424e9",
   "metadata": {},
   "outputs": [],
   "source": [
    "a[0]"
   ]
  },
  {
   "cell_type": "code",
   "execution_count": null,
   "id": "68da72a2",
   "metadata": {},
   "outputs": [],
   "source": [
    "a[0,0]"
   ]
  },
  {
   "cell_type": "code",
   "execution_count": null,
   "id": "a4e9eb87",
   "metadata": {},
   "outputs": [],
   "source": [
    "a[0,1]"
   ]
  },
  {
   "cell_type": "code",
   "execution_count": null,
   "id": "92ac8ee6",
   "metadata": {},
   "outputs": [],
   "source": [
    "a[3,4]"
   ]
  },
  {
   "cell_type": "code",
   "execution_count": null,
   "id": "e03fb401",
   "metadata": {},
   "outputs": [],
   "source": [
    "# a[a:b(exclusive)] used to print the rows\n",
    "a[1:5]"
   ]
  },
  {
   "cell_type": "code",
   "execution_count": null,
   "id": "78c39067",
   "metadata": {},
   "outputs": [],
   "source": [
    "a[0:,2]"
   ]
  },
  {
   "cell_type": "code",
   "execution_count": null,
   "id": "565b5ab9",
   "metadata": {},
   "outputs": [],
   "source": [
    "a[1:,4] # 2nd row 5th coloum .# after keeping comma then we are talking about the columns."
   ]
  },
  {
   "cell_type": "code",
   "execution_count": null,
   "id": "4153ffb6",
   "metadata": {},
   "outputs": [],
   "source": [
    "a[1,4]"
   ]
  },
  {
   "cell_type": "code",
   "execution_count": null,
   "id": "d9d1946c",
   "metadata": {},
   "outputs": [],
   "source": [
    "a[:,:] # printing total rows and columns"
   ]
  },
  {
   "cell_type": "code",
   "execution_count": null,
   "id": "3be6328b",
   "metadata": {},
   "outputs": [],
   "source": [
    "# a[:,2(index of col):5(exclusive)]"
   ]
  },
  {
   "cell_type": "code",
   "execution_count": null,
   "id": "d8aebeeb",
   "metadata": {},
   "outputs": [],
   "source": [
    "a[:,2:5]"
   ]
  },
  {
   "cell_type": "code",
   "execution_count": null,
   "id": "5341ca62",
   "metadata": {},
   "outputs": [],
   "source": [
    "a[:,2:4].dtype"
   ]
  },
  {
   "cell_type": "markdown",
   "id": "fab1e6cf",
   "metadata": {},
   "source": [
    "# mathematical operations"
   ]
  },
  {
   "cell_type": "code",
   "execution_count": null,
   "id": "cb1ba1c3",
   "metadata": {},
   "outputs": [],
   "source": [
    "a=np.arange(0,18).reshape((6,3))\n",
    "b=np.arange(20,38).reshape((6,3))\n",
    "print(a)\n",
    "print(b)"
   ]
  },
  {
   "cell_type": "code",
   "execution_count": null,
   "id": "c6f207b7",
   "metadata": {},
   "outputs": [],
   "source": [
    "a+b"
   ]
  },
  {
   "cell_type": "code",
   "execution_count": null,
   "id": "cfc2b9f4",
   "metadata": {},
   "outputs": [],
   "source": [
    "a*b # here it is not matrix multiplication ."
   ]
  },
  {
   "cell_type": "code",
   "execution_count": null,
   "id": "b056239c",
   "metadata": {},
   "outputs": [],
   "source": [
    "a/b"
   ]
  },
  {
   "cell_type": "code",
   "execution_count": null,
   "id": "feae37c3",
   "metadata": {},
   "outputs": [],
   "source": [
    "np.divide(a,b)"
   ]
  },
  {
   "cell_type": "code",
   "execution_count": null,
   "id": "52e650ae",
   "metadata": {},
   "outputs": [],
   "source": [
    "#(a@b) # It is the matrix multiplication\n",
    "#cond:no.of col in a should be equal to no.of rows in b.\n"
   ]
  },
  {
   "cell_type": "code",
   "execution_count": null,
   "id": "e05436fd",
   "metadata": {},
   "outputs": [],
   "source": [
    "b=b.reshape((3,6))\n",
    "b"
   ]
  },
  {
   "cell_type": "code",
   "execution_count": null,
   "id": "e33436e0",
   "metadata": {},
   "outputs": [],
   "source": [
    "# It is the matrix multiplication.\n",
    "a@b"
   ]
  },
  {
   "cell_type": "code",
   "execution_count": null,
   "id": "32717f30",
   "metadata": {},
   "outputs": [],
   "source": [
    "a.dot(b) # This also used for matrix multiplation."
   ]
  },
  {
   "cell_type": "code",
   "execution_count": null,
   "id": "ab2696c1",
   "metadata": {},
   "outputs": [],
   "source": [
    "b.max()"
   ]
  },
  {
   "cell_type": "code",
   "execution_count": null,
   "id": "aeae83ec",
   "metadata": {},
   "outputs": [],
   "source": [
    "b.min()"
   ]
  },
  {
   "cell_type": "code",
   "execution_count": null,
   "id": "5883214e",
   "metadata": {},
   "outputs": [],
   "source": [
    "b.argmin() # this is the index of the mininum value number in b"
   ]
  },
  {
   "cell_type": "code",
   "execution_count": null,
   "id": "d3197f32",
   "metadata": {},
   "outputs": [],
   "source": [
    "np.sum(b) # It will give the sum of all the elements of b array"
   ]
  },
  {
   "cell_type": "code",
   "execution_count": null,
   "id": "91a64288",
   "metadata": {},
   "outputs": [],
   "source": [
    "b"
   ]
  },
  {
   "cell_type": "code",
   "execution_count": null,
   "id": "616c6747",
   "metadata": {},
   "outputs": [],
   "source": [
    "# sum of elements in a row"
   ]
  },
  {
   "cell_type": "code",
   "execution_count": null,
   "id": "f7e8d933",
   "metadata": {},
   "outputs": [],
   "source": [
    "np.sum(b,axis = 1)"
   ]
  },
  {
   "cell_type": "code",
   "execution_count": null,
   "id": "4a74fe4c",
   "metadata": {},
   "outputs": [],
   "source": [
    "np.sum(b,axis = 0) # sum of elements in a col of b array."
   ]
  },
  {
   "cell_type": "code",
   "execution_count": null,
   "id": "5967ad09",
   "metadata": {},
   "outputs": [],
   "source": [
    "np.mean(b)"
   ]
  },
  {
   "cell_type": "code",
   "execution_count": null,
   "id": "3aa6033f",
   "metadata": {},
   "outputs": [],
   "source": [
    "np.sqrt(b)"
   ]
  },
  {
   "cell_type": "code",
   "execution_count": null,
   "id": "7d2fd879",
   "metadata": {},
   "outputs": [],
   "source": [
    "np.std(b) # It gives the standard deviation of b."
   ]
  },
  {
   "cell_type": "code",
   "execution_count": null,
   "id": "cdb89c5b",
   "metadata": {},
   "outputs": [],
   "source": [
    "np.log(b)"
   ]
  },
  {
   "cell_type": "markdown",
   "id": "a8f7c402",
   "metadata": {},
   "source": [
    "# Trignometeric functions."
   ]
  },
  {
   "cell_type": "code",
   "execution_count": null,
   "id": "715e0df6",
   "metadata": {},
   "outputs": [],
   "source": [
    "#pip install matplotlib"
   ]
  },
  {
   "cell_type": "code",
   "execution_count": null,
   "id": "69a63d09",
   "metadata": {},
   "outputs": [],
   "source": [
    "#conda install matplotlib"
   ]
  },
  {
   "cell_type": "code",
   "execution_count": null,
   "id": "a5014174",
   "metadata": {},
   "outputs": [],
   "source": [
    "np.pi"
   ]
  },
  {
   "cell_type": "code",
   "execution_count": null,
   "id": "c13b0bac",
   "metadata": {},
   "outputs": [],
   "source": [
    "np.sin(np.pi/2)"
   ]
  },
  {
   "cell_type": "code",
   "execution_count": null,
   "id": "cfe21bff",
   "metadata": {},
   "outputs": [],
   "source": [
    "np.tan(np.pi/2)"
   ]
  },
  {
   "cell_type": "markdown",
   "id": "126ee949",
   "metadata": {},
   "source": [
    "# Using matplotlib with numpy"
   ]
  },
  {
   "cell_type": "code",
   "execution_count": null,
   "id": "0385d9cb",
   "metadata": {},
   "outputs": [],
   "source": [
    "# import numpy as np\n",
    " #   import matplotlib as plt\n",
    "  #  plt.style.use('dark_background')\n",
    "  #  x=np.arange(1,11)\n",
    "  #  y=np.arange(10,110,10)\n",
    "#\n",
    " #   plt.figure(figsize = (6,6))\n",
    "  #  plt.plot(x,y,'r--')\n",
    "   # plot.show()"
   ]
  },
  {
   "cell_type": "code",
   "execution_count": null,
   "id": "c38a80f0",
   "metadata": {},
   "outputs": [],
   "source": [
    "#matplotlib is not working here .\n",
    "import numpy as np"
   ]
  },
  {
   "cell_type": "code",
   "execution_count": 36,
   "id": "d1d981b0",
   "metadata": {},
   "outputs": [
    {
     "data": {
      "text/plain": [
       "array([0.49484215])"
      ]
     },
     "execution_count": 36,
     "metadata": {},
     "output_type": "execute_result"
    }
   ],
   "source": [
    "np.random.random(1)"
   ]
  },
  {
   "cell_type": "code",
   "execution_count": 37,
   "id": "400e2aa4",
   "metadata": {},
   "outputs": [
    {
     "data": {
      "text/plain": [
       "array([0.11420225])"
      ]
     },
     "execution_count": 37,
     "metadata": {},
     "output_type": "execute_result"
    }
   ],
   "source": [
    "np.random.random(1)"
   ]
  },
  {
   "cell_type": "code",
   "execution_count": null,
   "id": "377bddcd",
   "metadata": {},
   "outputs": [],
   "source": [
    "\n",
    "np.random.random(2)"
   ]
  },
  {
   "cell_type": "code",
   "execution_count": null,
   "id": "6ed7df51",
   "metadata": {},
   "outputs": [],
   "source": [
    "np.random.random((2,2)) # A randomly generated 2d array"
   ]
  },
  {
   "cell_type": "code",
   "execution_count": null,
   "id": "afdd8430",
   "metadata": {},
   "outputs": [],
   "source": [
    "np.random.randint(1,10)"
   ]
  },
  {
   "cell_type": "code",
   "execution_count": null,
   "id": "10f29f7f",
   "metadata": {},
   "outputs": [],
   "source": [
    "np.random.randint(1,10)"
   ]
  },
  {
   "cell_type": "code",
   "execution_count": null,
   "id": "6f63819a",
   "metadata": {},
   "outputs": [],
   "source": [
    "np.random.randint(1,10,(2,2)) # Creating 2D array randomly."
   ]
  },
  {
   "cell_type": "code",
   "execution_count": null,
   "id": "c56e9167",
   "metadata": {},
   "outputs": [],
   "source": [
    "np.random.randint(1,10,(1,4,5))"
   ]
  },
  {
   "cell_type": "code",
   "execution_count": null,
   "id": "1d5f1664",
   "metadata": {},
   "outputs": [],
   "source": [
    "np.random.rand(2,2) # By using rand we can create float values"
   ]
  },
  {
   "cell_type": "code",
   "execution_count": null,
   "id": "ac58959f",
   "metadata": {},
   "outputs": [],
   "source": [
    "np.random.randn(2,2) # we can get negatively values also "
   ]
  },
  {
   "cell_type": "code",
   "execution_count": null,
   "id": "565d097c",
   "metadata": {},
   "outputs": [],
   "source": [
    "a=np.arange(1,10)\n",
    "print(a)"
   ]
  },
  {
   "cell_type": "code",
   "execution_count": null,
   "id": "362dc3c1",
   "metadata": {},
   "outputs": [],
   "source": [
    "np.random.choice(a)"
   ]
  },
  {
   "cell_type": "markdown",
   "id": "ad84e7bc",
   "metadata": {},
   "source": [
    "# Playing with strings"
   ]
  },
  {
   "cell_type": "code",
   "execution_count": null,
   "id": "be85ad65",
   "metadata": {},
   "outputs": [],
   "source": [
    "s1='Jayanth is the winner'\n",
    "s2= ' Iam an Indian'\n",
    "np.char.add(s1, s2) # Used for concating of stirngs"
   ]
  },
  {
   "cell_type": "code",
   "execution_count": null,
   "id": "0ee5b8d3",
   "metadata": {},
   "outputs": [],
   "source": [
    "np.char.lower(s1)"
   ]
  },
  {
   "cell_type": "code",
   "execution_count": null,
   "id": "1a93394a",
   "metadata": {},
   "outputs": [],
   "source": [
    "np.char.split(s1) # It will split into diff str when it find space"
   ]
  },
  {
   "cell_type": "code",
   "execution_count": null,
   "id": "13fb730d",
   "metadata": {},
   "outputs": [],
   "source": [
    "np.char.replace(s1,'winner','ceo of google')"
   ]
  },
  {
   "cell_type": "markdown",
   "id": "64a1f2ff",
   "metadata": {},
   "source": [
    "# The end of Numpy # "
   ]
  }
 ],
 "metadata": {
  "kernelspec": {
   "display_name": "Python 3 (ipykernel)",
   "language": "python",
   "name": "python3"
  },
  "language_info": {
   "codemirror_mode": {
    "name": "ipython",
    "version": 3
   },
   "file_extension": ".py",
   "mimetype": "text/x-python",
   "name": "python",
   "nbconvert_exporter": "python",
   "pygments_lexer": "ipython3",
   "version": "3.9.13"
  }
 },
 "nbformat": 4,
 "nbformat_minor": 5
}
